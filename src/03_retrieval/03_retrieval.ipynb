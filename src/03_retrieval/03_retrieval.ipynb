{
 "cells": [
  {
   "cell_type": "markdown",
   "metadata": {},
   "source": [
    "# Chapter 3 | Retrieval - 未知のデータを扱えるようにする"
   ]
  },
  {
   "cell_type": "markdown",
   "metadata": {},
   "source": [
    "## Section 1 | 言語モデルが未知のデータを扱えるようにするためには"
   ]
  },
  {
   "cell_type": "markdown",
   "metadata": {},
   "source": [
    "### ベクトルの類似度を検索する"
   ]
  },
  {
   "cell_type": "code",
   "execution_count": 4,
   "metadata": {},
   "outputs": [
    {
     "name": "stdout",
     "output_type": "stream",
     "text": [
      "ベクトル化された質問: [0.04084229656882372, 0.0022624695114733247, -0.006506128407696009, -0.05617594837080859, -0.01399951644177802]\n",
      "ドキュメント1と質問の類似度: 0.8335316531779511\n",
      "ドキュメント2と質問の類似度: 0.09342478095714071\n"
     ]
    }
   ],
   "source": [
    "from typing import List\n",
    "from langchain_openai.embeddings import OpenAIEmbeddings\n",
    "from numpy import dot\n",
    "from numpy.linalg import norm\n",
    "\n",
    "embeddings: OpenAIEmbeddings = OpenAIEmbeddings(model=\"text-embedding-3-small\")\n",
    "\n",
    "query_vector: List[float] = embeddings.embed_query(\"飛行車の最高速度は？\")\n",
    "\n",
    "print(f\"ベクトル化された質問: {query_vector[:5]}\")\n",
    "\n",
    "document_1_vector: List[float] = embeddings.embed_query(\n",
    "    \"飛行車の最高速度は、時速150kmです。\"\n",
    ")\n",
    "\n",
    "document_2_vector: List[float] = embeddings.embed_query(\n",
    "    \"鶏肉を適切にした味を付けた後、中火で焼きながらたまに裏返し、外側は香ばしく中は柔らかく仕上げる。\"\n",
    ")\n",
    "\n",
    "cos_sim_1 = (\n",
    "    dot(query_vector, document_1_vector) / norm(query_vector) * norm(document_1_vector)\n",
    ")\n",
    "\n",
    "print(f\"ドキュメント1と質問の類似度: {cos_sim_1}\")\n",
    "\n",
    "cos_sim_2 = (\n",
    "    dot(query_vector, document_2_vector) / norm(query_vector) * norm(document_2_vector)\n",
    ")\n",
    "\n",
    "print(f\"ドキュメント2と質問の類似度: {cos_sim_2}\")"
   ]
  },
  {
   "cell_type": "markdown",
   "metadata": {},
   "source": [
    "## Section 2 | 与えたPDFをもとに回答するチャットボットを作る"
   ]
  },
  {
   "cell_type": "code",
   "execution_count": 12,
   "metadata": {},
   "outputs": [
    {
     "name": "stdout",
     "output_type": "stream",
     "text": [
      "ドキュメントの数: 12\n",
      "1つめのドキュメントの内容: 飛行車に関する法制度\n",
      "【注意】この文章は、架空の飛行車を対象にした法律の自動生成例です。\n",
      "\n",
      "1つめのドキュメントのメタデータ: {'source': './sample.pdf', 'file_path': './sample.pdf', 'page': 0, 'total_pages': 12, 'format': 'PDF 1.4', 'title': '飛行車に関する法制度', 'author': '', 'subject': '', 'keywords': '', 'creator': '', 'producer': 'macOS バージョン13.5（ビルド22G74） Quartz PDFContext, AppendMode 1.1', 'creationDate': '', 'modDate': \"D:20230819044808Z00'00'\", 'trapped': ''}\n"
     ]
    }
   ],
   "source": [
    "from langchain.document_loaders.pdf import PyMuPDFLoader\n",
    "from langchain_core.documents import Document\n",
    "\n",
    "loader = PyMuPDFLoader(\"./sample.pdf\")\n",
    "documents: list[Document] = loader.load()\n",
    "\n",
    "print(f\"ドキュメントの数: {len(documents)}\")\n",
    "print(f\"1つめのドキュメントの内容: {documents[0].page_content}\")\n",
    "print(f\"1つめのドキュメントのメタデータ: {documents[0].metadata}\")"
   ]
  }
 ],
 "metadata": {
  "kernelspec": {
   "display_name": ".venv",
   "language": "python",
   "name": "python3"
  },
  "language_info": {
   "codemirror_mode": {
    "name": "ipython",
    "version": 3
   },
   "file_extension": ".py",
   "mimetype": "text/x-python",
   "name": "python",
   "nbconvert_exporter": "python",
   "pygments_lexer": "ipython3",
   "version": "3.12.1"
  }
 },
 "nbformat": 4,
 "nbformat_minor": 2
}
